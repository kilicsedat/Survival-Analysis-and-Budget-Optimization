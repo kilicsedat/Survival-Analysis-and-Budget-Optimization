{
 "cells": [
  {
   "cell_type": "code",
   "execution_count": 35,
   "id": "ee294bbc",
   "metadata": {},
   "outputs": [],
   "source": [
    "from collections import defaultdict\n",
    "\n",
    "def check_service(current_mileage, threshold=500):\n",
    "    # Define service intervals and names\n",
    "    service_intervals = {\n",
    "        11000: (\"Service A\", ('yikama', 'yaglama')),\n",
    "        15000: (\"Service B\", ('yikama', 'yaglama')),\n",
    "        30000: (\"Service C\", ('yikama', 'yaglama')),\n",
    "        45000: (\"Service D\", ('yikama', 'yaglama')),\n",
    "        60000: (\"Service E\", ('yikama', 'yaglama')),\n",
    "        75000: (\"Service F\", ('yikama', 'yaglama'))\n",
    "    }\n",
    "    \n",
    "    passed_services = []\n",
    "    upcoming_services = []\n",
    "\n",
    "    # Check if any service is just passed\n",
    "    for interval, name in service_intervals.items():\n",
    "        last_service = (current_mileage // interval) * interval\n",
    "        if current_mileage - threshold <= last_service <= current_mileage + threshold:\n",
    "            passed_services.append((last_service, name[0], name[1]))\n",
    "\n",
    "    # Find next upcoming services\n",
    "    future_candidates = defaultdict(list)\n",
    "    \n",
    "    for interval, name in service_intervals.items():\n",
    "        next_service = ((current_mileage // interval) + 1) * interval\n",
    "        future_candidates[next_service].append(name)\n",
    "    \n",
    "    # Sort by mileage\n",
    "    sorted_candidates = sorted(future_candidates.items())\n",
    "\n",
    "    # Pick next 3 different mileage points\n",
    "    for mileage, names in sorted_candidates:\n",
    "        upcoming_services.append((mileage, names))\n",
    "        if len(upcoming_services) == 4:\n",
    "            break\n",
    "\n",
    "    return passed_services, upcoming_services\n",
    "\n"
   ]
  },
  {
   "cell_type": "code",
   "execution_count": 45,
   "id": "77a9844f",
   "metadata": {},
   "outputs": [
    {
     "name": "stdout",
     "output_type": "stream",
     "text": [
      "Current Mileage:34500\n",
      "Passed Services: []\n",
      "Upcoming Services:\n",
      "\n",
      "At 44000: Service A\t Tasks:('yikama', 'yaglama')\n",
      "At 45000: Service B\t Tasks:('yikama', 'yaglama')\n",
      "At 60000: Service C\t Tasks:('yikama', 'yaglama')\n",
      "At 75000: Service F\t Tasks:('yikama', 'yaglama')\n"
     ]
    }
   ],
   "source": [
    "# Example usage\n",
    "current_mileage = 34500\n",
    "passed, upcoming = check_service(current_mileage)\n",
    "\n",
    "print(f'Current Mileage:{current_mileage}')\n",
    "print(f'Passed Services: {passed}')\n",
    "print(f'Upcoming Services:\\n')\n",
    "for mileage, names in upcoming:\n",
    "    print(f'At {mileage}: {names[0][0]}\\t Tasks:{names[0][1]}')\n"
   ]
  },
  {
   "cell_type": "code",
   "execution_count": 75,
   "id": "6b61a68d",
   "metadata": {},
   "outputs": [],
   "source": [
    "from collections import defaultdict\n",
    "\n",
    "def check_service(current_mileage, threshold=500):\n",
    "    # Define service intervals and names\n",
    "    service_intervals = {\n",
    "        11000: (\"Service A\", ('yikama', 'yaglama')),\n",
    "        15000: (\"Service B\", ('yikama', 'yaglama')),\n",
    "        30000: (\"Service C\", ('yikama', 'yaglama')),\n",
    "        45000: (\"Service D\", ('yikama', 'yaglama')),\n",
    "        60000: (\"Service E\", ('yikama', 'yaglama')),\n",
    "        75000: (\"Service F\", ('yikama', 'yaglama'))\n",
    "    }\n",
    "    \n",
    "    passed_services = []\n",
    "    upcoming_services = []\n",
    "\n",
    "    # Check if any service is just passed\n",
    "    for interval, (service_name, tasks) in service_intervals.items():\n",
    "        last_service = (current_mileage // interval) * interval\n",
    "        if current_mileage - threshold <= last_service <= current_mileage + threshold:\n",
    "            passed_services.append((last_service, service_name, tasks))\n",
    "\n",
    "    # Find next upcoming services\n",
    "    future_candidates = defaultdict(list)\n",
    "    \n",
    "    max_mileage_lookahead = current_mileage + 100000  # look 100k miles ahead\n",
    "    for interval, (service_name, tasks) in service_intervals.items():\n",
    "        next_service = ((current_mileage // interval) + 1) * interval\n",
    "        while next_service <= max_mileage_lookahead:\n",
    "            if next_service > current_mileage:\n",
    "                future_candidates[next_service].append((service_name, tasks))\n",
    "            next_service += interval\n",
    "\n",
    "    # Sort by mileage\n",
    "    sorted_candidates = sorted(future_candidates.items())\n",
    "\n",
    "    # Pick next 4 different mileage points\n",
    "    for mileage, names in sorted_candidates:\n",
    "        upcoming_services.append((mileage, names))\n",
    "        if len(upcoming_services) == 4:\n",
    "            break\n",
    "\n",
    "    return passed_services, upcoming_services\n",
    "\n",
    "def display_services(current_mileage):\n",
    "    passed_services, upcoming_services = check_service(current_mileage)\n",
    "\n",
    "    print(\"✅ Passed Services:\")\n",
    "    if not passed_services:\n",
    "        print(\"No services just passed.\")\n",
    "    else:\n",
    "        for mileage, service_name, tasks in passed_services:\n",
    "            print(f\"At {mileage} miles: {service_name} - Tasks: {tasks}\")\n",
    "\n",
    "    print(\"\\n🛠️ Upcoming Services:\")\n",
    "    for mileage, services in upcoming_services:\n",
    "        miles_left = mileage - current_mileage\n",
    "        #service_names_tasks= [s for s in services]\n",
    "        tasks = ([s[1] for s in services])\n",
    "        print(f\"In {miles_left:,} miles at {mileage}:\\n {services}\\n\")\n",
    "\n"
   ]
  },
  {
   "cell_type": "code",
   "execution_count": 76,
   "id": "4acf77cf",
   "metadata": {},
   "outputs": [
    {
     "name": "stdout",
     "output_type": "stream",
     "text": [
      "✅ Passed Services:\n",
      "No services just passed.\n",
      "\n",
      "🛠️ Upcoming Services:\n",
      "In 500 miles at 22000:\n",
      " [('Service A', ('yikama', 'yaglama'))]\n",
      "\n",
      "In 8,500 miles at 30000:\n",
      " [('Service B', ('yikama', 'yaglama')), ('Service C', ('yikama', 'yaglama'))]\n",
      "\n",
      "In 11,500 miles at 33000:\n",
      " [('Service A', ('yikama', 'yaglama'))]\n",
      "\n",
      "In 22,500 miles at 44000:\n",
      " [('Service A', ('yikama', 'yaglama'))]\n",
      "\n"
     ]
    }
   ],
   "source": [
    "# Example usage\n",
    "current_mileage = 21500\n",
    "display_services(current_mileage)\n"
   ]
  },
  {
   "cell_type": "code",
   "execution_count": null,
   "id": "db5e1272",
   "metadata": {},
   "outputs": [],
   "source": []
  },
  {
   "cell_type": "code",
   "execution_count": null,
   "id": "960cce30",
   "metadata": {},
   "outputs": [],
   "source": []
  },
  {
   "cell_type": "code",
   "execution_count": null,
   "id": "2d6a3ea1",
   "metadata": {},
   "outputs": [],
   "source": []
  }
 ],
 "metadata": {
  "kernelspec": {
   "display_name": "Python 3",
   "language": "python",
   "name": "python3"
  },
  "language_info": {
   "codemirror_mode": {
    "name": "ipython",
    "version": 3
   },
   "file_extension": ".py",
   "mimetype": "text/x-python",
   "name": "python",
   "nbconvert_exporter": "python",
   "pygments_lexer": "ipython3",
   "version": "3.8.8"
  }
 },
 "nbformat": 4,
 "nbformat_minor": 5
}
