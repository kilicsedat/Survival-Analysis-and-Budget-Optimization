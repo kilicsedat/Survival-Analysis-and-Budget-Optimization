{
 "cells": [
  {
   "cell_type": "code",
   "execution_count": 26,
   "id": "68f43832",
   "metadata": {},
   
   "source": [
    "import pandas as pd\n",
    "import numpy as np\n",
    "import dowhy\n",
    "\n",
    "from dowhy import CausalModel\n",
    "from dowhy import CausalGraph\n",
    "from dowhy.datasets import linear_dataset"
   ]
  },
  {
   "cell_type": "code",
   "execution_count": 19,
   "id": "5b35da56",
   "metadata": {},
   "outputs": [],
   "source": [
    "from graphviz import Digraph"
   ]
  },
  {
   "cell_type": "code",
   "execution_count": 5,
   "id": "d8141699",
   "metadata": {},
   "outputs": [],
   "source": [
    "# Simulate sample data\n",
    "data = linear_dataset(\n",
    "    beta=1,\n",
    "    num_common_causes=2,\n",
    "    num_discrete_common_causes=1,\n",
    "    num_instruments=1,\n",
    "    num_samples=10000,\n",
    "    treatment_is_binary=True)\n",
    "\n",
    "df = data['df']"
   ]
  },
  {
   "cell_type": "code",
   "execution_count": 7,
   "id": "bd53f395",
   "metadata": {},
   "outputs": [
    {
     "data": {
      "text/plain": [
       "Index(['Z0', 'W0', 'W1', 'v0', 'y'], dtype='object')"
      ]
     },
     "execution_count": 7,
     "metadata": {},
     "output_type": "execute_result"
    }
   ],
   "source": [
    "df.columns"
   ]
  },
  {
   "cell_type": "code",
   "execution_count": 8,
   "id": "bb58226e",
   "metadata": {},
   "outputs": [
    {
     "data": {
      "text/html": [
       "<div>\n",
       "<style scoped>\n",
       "    .dataframe tbody tr th:only-of-type {\n",
       "        vertical-align: middle;\n",
       "    }\n",
       "\n",
       "    .dataframe tbody tr th {\n",
       "        vertical-align: top;\n",
       "    }\n",
       "\n",
       "    .dataframe thead th {\n",
       "        text-align: right;\n",
       "    }\n",
       "</style>\n",
       "<table border=\"1\" class=\"dataframe\">\n",
       "  <thead>\n",
       "    <tr style=\"text-align: right;\">\n",
       "      <th></th>\n",
       "      <th>Z0</th>\n",
       "      <th>W0</th>\n",
       "      <th>W1</th>\n",
       "      <th>v0</th>\n",
       "      <th>y</th>\n",
       "    </tr>\n",
       "  </thead>\n",
       "  <tbody>\n",
       "    <tr>\n",
       "      <th>0</th>\n",
       "      <td>0.0</td>\n",
       "      <td>-0.665324</td>\n",
       "      <td>0</td>\n",
       "      <td>True</td>\n",
       "      <td>0.813566</td>\n",
       "    </tr>\n",
       "    <tr>\n",
       "      <th>1</th>\n",
       "      <td>0.0</td>\n",
       "      <td>0.014747</td>\n",
       "      <td>1</td>\n",
       "      <td>True</td>\n",
       "      <td>1.949598</td>\n",
       "    </tr>\n",
       "    <tr>\n",
       "      <th>2</th>\n",
       "      <td>0.0</td>\n",
       "      <td>-0.008472</td>\n",
       "      <td>0</td>\n",
       "      <td>True</td>\n",
       "      <td>1.000319</td>\n",
       "    </tr>\n",
       "    <tr>\n",
       "      <th>3</th>\n",
       "      <td>0.0</td>\n",
       "      <td>0.809330</td>\n",
       "      <td>3</td>\n",
       "      <td>False</td>\n",
       "      <td>3.006534</td>\n",
       "    </tr>\n",
       "    <tr>\n",
       "      <th>4</th>\n",
       "      <td>0.0</td>\n",
       "      <td>0.069714</td>\n",
       "      <td>1</td>\n",
       "      <td>True</td>\n",
       "      <td>1.973512</td>\n",
       "    </tr>\n",
       "  </tbody>\n",
       "</table>\n",
       "</div>"
      ],
      "text/plain": [
       "    Z0        W0 W1     v0         y\n",
       "0  0.0 -0.665324  0   True  0.813566\n",
       "1  0.0  0.014747  1   True  1.949598\n",
       "2  0.0 -0.008472  0   True  1.000319\n",
       "3  0.0  0.809330  3  False  3.006534\n",
       "4  0.0  0.069714  1   True  1.973512"
      ]
     },
     "execution_count": 8,
     "metadata": {},
     "output_type": "execute_result"
    }
   ],
   "source": [
    "df.head(5)"
   ]
  },
  {
   "cell_type": "code",
   "execution_count": 11,
   "id": "4a193743",
   "metadata": {},
   "outputs": [
    {
     "data": {
      "text/plain": [
       "array([0., 1.])"
      ]
     },
     "execution_count": 11,
     "metadata": {},
     "output_type": "execute_result"
    }
   ],
   "source": [
    "df['Z0'].unique()"
   ]
  },
  {
   "cell_type": "code",
   "execution_count": 15,
   "id": "741c6b0a",
   "metadata": {},
   "outputs": [
    {
     "data": {
      "text/plain": [
       "0   -0.665324\n",
       "1    0.014747\n",
       "2   -0.008472\n",
       "3    0.809330\n",
       "4    0.069714\n",
       "Name: W0, dtype: float64"
      ]
     },
     "execution_count": 15,
     "metadata": {},
     "output_type": "execute_result"
    }
   ],
   "source": [
    "df['W0'].head(5)"
   ]
  },
  {
   "cell_type": "code",
   "execution_count": 22,
   "id": "0ce7d12a",
   "metadata": {},
   "outputs": [
    {
     "ename": "SyntaxError",
     "evalue": "invalid syntax (<ipython-input-22-a87e6c7751a6>, line 1)",
     "output_type": "error",
     "traceback": [
      "\u001b[0;36m  File \u001b[0;32m\"<ipython-input-22-a87e6c7751a6>\"\u001b[0;36m, line \u001b[0;32m1\u001b[0m\n\u001b[0;31m    digraph {v0->y;W0-> v0; W1-> v0;Z0-> v0;W0-> y; W1-> y;}\u001b[0m\n\u001b[0m            ^\u001b[0m\n\u001b[0;31mSyntaxError\u001b[0m\u001b[0;31m:\u001b[0m invalid syntax\n"
     ]
    }
   ],
   "source": [
    "digraph {v0->y;W0-> v0; W1-> v0;Z0-> v0;W0-> y; W1-> y;}"
   ]
  },
  {
   "cell_type": "code",
   "execution_count": 23,
   "id": "fb3c77cf",
   "metadata": {},
   "outputs": [
    {
     "ename": "AttributeError",
     "evalue": "module 'dowhy' has no attribute 'CausalGraph'",
     "output_type": "error",
     "traceback": [
      "\u001b[0;31m---------------------------------------------------------------------------\u001b[0m",
      "\u001b[0;31mAttributeError\u001b[0m                            Traceback (most recent call last)",
      "\u001b[0;32m<ipython-input-23-8a8316c627e2>\u001b[0m in \u001b[0;36m<module>\u001b[0;34m\u001b[0m\n\u001b[1;32m      1\u001b[0m \u001b[0;31m# Define the causal graph using DoWhy's CausalGraph class\u001b[0m\u001b[0;34m\u001b[0m\u001b[0;34m\u001b[0m\u001b[0;34m\u001b[0m\u001b[0m\n\u001b[0;32m----> 2\u001b[0;31m causal_graph = dowhy.CausalGraph(\n\u001b[0m\u001b[1;32m      3\u001b[0m     \u001b[0mmodel\u001b[0m\u001b[0;34m=\u001b[0m\u001b[0;34m\"dag\"\u001b[0m\u001b[0;34m,\u001b[0m\u001b[0;34m\u001b[0m\u001b[0;34m\u001b[0m\u001b[0m\n\u001b[1;32m      4\u001b[0m     \u001b[0mnodes\u001b[0m\u001b[0;34m=\u001b[0m\u001b[0;34m[\u001b[0m\u001b[0;34m'v0'\u001b[0m\u001b[0;34m,\u001b[0m \u001b[0;34m'y'\u001b[0m\u001b[0;34m,\u001b[0m \u001b[0;34m'W0'\u001b[0m\u001b[0;34m,\u001b[0m \u001b[0;34m'W1'\u001b[0m\u001b[0;34m,\u001b[0m \u001b[0;34m'Z0'\u001b[0m\u001b[0;34m]\u001b[0m\u001b[0;34m,\u001b[0m\u001b[0;34m\u001b[0m\u001b[0;34m\u001b[0m\u001b[0m\n\u001b[1;32m      5\u001b[0m     edges=[('v0', 'y'), \n",
      "\u001b[0;31mAttributeError\u001b[0m: module 'dowhy' has no attribute 'CausalGraph'"
     ]
    }
   ],
   "source": [
    "\n",
    "\n",
    "# Define the causal graph using DoWhy's CausalGraph class\n",
    "causal_graph = dowhy.CausalGraph(\n",
    "    model=\"dag\",\n",
    "    nodes=['v0', 'y', 'W0', 'W1', 'Z0'],\n",
    "    edges=[('v0', 'y'), \n",
    "           ('W0', 'v0'), \n",
    "           ('W1', 'v0'), \n",
    "           ('Z0', 'v0'), \n",
    "           ('W0', 'y'), \n",
    "           ('W1', 'y')]\n",
    ")\n",
    "\n",
    "# Visualize the causal graph (this will use Graphviz under the hood)\n",
    "causal_graph.view()\n"
   ]
  },
  {
   "cell_type": "code",
   "execution_count": null,
   "id": "af4bdc5b",
   "metadata": {},
   "outputs": [],
   "source": []
  }
 ],
 "metadata": {
  "kernelspec": {
   "display_name": "Python 3",
   "language": "python",
   "name": "python3"
  },
  "language_info": {
   "codemirror_mode": {
    "name": "ipython",
    "version": 3
   },
   "file_extension": ".py",
   "mimetype": "text/x-python",
   "name": "python",
   "nbconvert_exporter": "python",
   "pygments_lexer": "ipython3",
   "version": "3.8.8"
  }
 },
 "nbformat": 4,
 "nbformat_minor": 5
}
